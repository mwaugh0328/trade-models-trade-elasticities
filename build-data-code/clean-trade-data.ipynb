{
 "cells": [
  {
   "cell_type": "code",
   "execution_count": 1,
   "metadata": {},
   "outputs": [],
   "source": [
    "import pandas as pd             # data package\n",
    "import matplotlib.pyplot as plt # graphics \n",
    "import datetime as dt\n",
    "import numpy as np\n",
    "import os\n",
    "\n",
    "import requests, io             # internet and input tools  \n",
    "import zipfile as zf            # zip file tools \n",
    "import os  \n",
    "\n",
    "#import weightedcalcs as wc\n",
    "#import numpy as np\n",
    "\n",
    "import pyarrow as pa\n",
    "import pyarrow.parquet as pq"
   ]
  },
  {
   "cell_type": "markdown",
   "metadata": {},
   "source": [
    "Need to dowaload the baci trade data from https://www.cepii.fr/CEPII/en/bdd_modele/bdd_modele_item.asp?id=37\n",
    "\n",
    "this was under the HS17 codes"
   ]
  },
  {
   "cell_type": "code",
   "execution_count": 5,
   "metadata": {},
   "outputs": [],
   "source": [
    "# bring in the data\n",
    "\n",
    "country_codes = pd.read_csv(\"./BACI-data/country_codes_V202501.csv\", dtype = {\"country_code\":str})\n",
    "\n",
    "trade_data = pd.read_csv(\"./BACI-data/BACI_HS17_Y2017_V202501.csv\")\n",
    "\n",
    "trade_data = trade_data.rename(columns={\n",
    "    't': 'year',\n",
    "    'i': 'exporter',\n",
    "    'j': 'importer',\n",
    "    'k': 'product',\n",
    "    'v': 'value',\n",
    "    'q': 'quantity'\n",
    "})\n",
    "\n",
    "cntry_names = ['AUS','AUT','BEL','BRA','CAN','CHN','COL','DNK','FIN','FRA','DEU'\n",
    "            ,'GRC','IND','IDN','IRL','ITA','JPN','KOR','MEX','NOR','POL','PRT'\n",
    "            ,'RUS','ESP','SWE','CHE','THA','TUR','GBR','USA']"
   ]
  },
  {
   "cell_type": "code",
   "execution_count": 6,
   "metadata": {},
   "outputs": [
    {
     "data": {
      "text/html": [
       "<div>\n",
       "<style scoped>\n",
       "    .dataframe tbody tr th:only-of-type {\n",
       "        vertical-align: middle;\n",
       "    }\n",
       "\n",
       "    .dataframe tbody tr th {\n",
       "        vertical-align: top;\n",
       "    }\n",
       "\n",
       "    .dataframe thead th {\n",
       "        text-align: right;\n",
       "    }\n",
       "</style>\n",
       "<table border=\"1\" class=\"dataframe\">\n",
       "  <thead>\n",
       "    <tr style=\"text-align: right;\">\n",
       "      <th></th>\n",
       "      <th>country_code</th>\n",
       "      <th>country_name</th>\n",
       "      <th>country_iso3</th>\n",
       "    </tr>\n",
       "  </thead>\n",
       "  <tbody>\n",
       "    <tr>\n",
       "      <th>0</th>\n",
       "      <td>4</td>\n",
       "      <td>Afghanistan</td>\n",
       "      <td>AFG</td>\n",
       "    </tr>\n",
       "    <tr>\n",
       "      <th>1</th>\n",
       "      <td>8</td>\n",
       "      <td>Albania</td>\n",
       "      <td>ALB</td>\n",
       "    </tr>\n",
       "    <tr>\n",
       "      <th>2</th>\n",
       "      <td>12</td>\n",
       "      <td>Algeria</td>\n",
       "      <td>DZA</td>\n",
       "    </tr>\n",
       "    <tr>\n",
       "      <th>3</th>\n",
       "      <td>16</td>\n",
       "      <td>American Samoa</td>\n",
       "      <td>ASM</td>\n",
       "    </tr>\n",
       "    <tr>\n",
       "      <th>4</th>\n",
       "      <td>20</td>\n",
       "      <td>Andorra</td>\n",
       "      <td>AND</td>\n",
       "    </tr>\n",
       "  </tbody>\n",
       "</table>\n",
       "</div>"
      ],
      "text/plain": [
       "   country_code    country_name country_iso3\n",
       "0             4     Afghanistan          AFG\n",
       "1             8         Albania          ALB\n",
       "2            12         Algeria          DZA\n",
       "3            16  American Samoa          ASM\n",
       "4            20         Andorra          AND"
      ]
     },
     "execution_count": 6,
     "metadata": {},
     "output_type": "execute_result"
    }
   ],
   "source": [
    "country_codes = pd.read_csv(\"./BACI-data/country_codes_V202501.csv\", \n",
    "                            dtype = {\"country_code\":int})\n",
    "\n",
    "country_codes.drop(columns=['country_iso2'], inplace=True)\n",
    "\n",
    "country_codes.head()"
   ]
  },
  {
   "cell_type": "code",
   "execution_count": 7,
   "metadata": {},
   "outputs": [],
   "source": [
    "trade_data.head()\n",
    "\n",
    "trade_data[\"value\"] = trade_data[\"value\"]*1000"
   ]
  },
  {
   "cell_type": "code",
   "execution_count": 8,
   "metadata": {},
   "outputs": [],
   "source": [
    "# only grab manufactuing products\n",
    "\n",
    "trade_data['hs2'] = trade_data['product'].astype(str).str[:2].astype(int)\n",
    "\n",
    "trade_data = trade_data[(trade_data['hs2'] > 27) & (trade_data['hs2'] <= 96)]\n"
   ]
  },
  {
   "cell_type": "code",
   "execution_count": 9,
   "metadata": {},
   "outputs": [],
   "source": [
    "#group things by year, exporter, and importer and add up the values\n",
    "\n",
    "trade_data_collapsed = trade_data.groupby(['year', \n",
    "                                           'exporter', \n",
    "                                           'importer'], as_index=False)['value'].sum()"
   ]
  },
  {
   "cell_type": "code",
   "execution_count": 10,
   "metadata": {},
   "outputs": [],
   "source": [
    "# now lets make this usefull for \n",
    "\n",
    "trade_data_collapsed = trade_data_collapsed.merge(\n",
    "    country_codes.rename(columns={'country_code': 'exporter'}), on='exporter', how='left')\n",
    "\n",
    "trade_data_collapsed = trade_data_collapsed.rename(columns={\n",
    "    'country_name': 'exporter_name',\n",
    "    'country_iso3': 'exporter_iso3'\n",
    "})"
   ]
  },
  {
   "cell_type": "code",
   "execution_count": 11,
   "metadata": {},
   "outputs": [],
   "source": [
    "trade_data_collapsed = trade_data_collapsed.merge(\n",
    "    country_codes.rename(columns={'country_code': 'importer'}), on='importer', how='left')\n",
    "\n",
    "trade_data_collapsed = trade_data_collapsed.rename(columns={\n",
    "    'country_name': 'importer_name',\n",
    "    'country_iso3': 'importer_iso3'\n",
    "})"
   ]
  },
  {
   "cell_type": "code",
   "execution_count": 12,
   "metadata": {},
   "outputs": [],
   "source": [
    "trade_data_just30 = trade_data_collapsed[trade_data_collapsed['exporter_iso3'].isin(cntry_names) &\n",
    "                                         trade_data_collapsed['importer_iso3'].isin(cntry_names)].copy(deep = True)"
   ]
  },
  {
   "cell_type": "code",
   "execution_count": 13,
   "metadata": {},
   "outputs": [
    {
     "data": {
      "text/html": [
       "<div>\n",
       "<style scoped>\n",
       "    .dataframe tbody tr th:only-of-type {\n",
       "        vertical-align: middle;\n",
       "    }\n",
       "\n",
       "    .dataframe tbody tr th {\n",
       "        vertical-align: top;\n",
       "    }\n",
       "\n",
       "    .dataframe thead th {\n",
       "        text-align: right;\n",
       "    }\n",
       "</style>\n",
       "<table border=\"1\" class=\"dataframe\">\n",
       "  <thead>\n",
       "    <tr style=\"text-align: right;\">\n",
       "      <th></th>\n",
       "      <th>value</th>\n",
       "      <th>exporter</th>\n",
       "      <th>importer</th>\n",
       "    </tr>\n",
       "  </thead>\n",
       "  <tbody>\n",
       "    <tr>\n",
       "      <th>0</th>\n",
       "      <td>4.182295e+07</td>\n",
       "      <td>AUS</td>\n",
       "      <td>AUT</td>\n",
       "    </tr>\n",
       "    <tr>\n",
       "      <th>1</th>\n",
       "      <td>2.260788e+08</td>\n",
       "      <td>AUS</td>\n",
       "      <td>BEL</td>\n",
       "    </tr>\n",
       "    <tr>\n",
       "      <th>2</th>\n",
       "      <td>1.990274e+08</td>\n",
       "      <td>AUS</td>\n",
       "      <td>BRA</td>\n",
       "    </tr>\n",
       "    <tr>\n",
       "      <th>3</th>\n",
       "      <td>1.047132e+09</td>\n",
       "      <td>AUS</td>\n",
       "      <td>CAN</td>\n",
       "    </tr>\n",
       "    <tr>\n",
       "      <th>4</th>\n",
       "      <td>1.995008e+10</td>\n",
       "      <td>AUS</td>\n",
       "      <td>CHN</td>\n",
       "    </tr>\n",
       "  </tbody>\n",
       "</table>\n",
       "</div>"
      ],
      "text/plain": [
       "          value exporter importer\n",
       "0  4.182295e+07      AUS      AUT\n",
       "1  2.260788e+08      AUS      BEL\n",
       "2  1.990274e+08      AUS      BRA\n",
       "3  1.047132e+09      AUS      CAN\n",
       "4  1.995008e+10      AUS      CHN"
      ]
     },
     "execution_count": 13,
     "metadata": {},
     "output_type": "execute_result"
    }
   ],
   "source": [
    "trade_data_just30.drop(columns=['exporter', 'importer', \"year\", \"exporter_name\", \"importer_name\"], inplace=True)\n",
    "\n",
    "trade_data_just30.rename(columns={'exporter_iso3': 'exporter',\n",
    "                                                    'importer_iso3': 'importer'}, inplace=True)\n",
    "\n",
    "trade_data_just30.reset_index(drop=True, inplace=True)\n",
    "\n",
    "trade_data_just30.head()"
   ]
  },
  {
   "cell_type": "code",
   "execution_count": 14,
   "metadata": {},
   "outputs": [],
   "source": [
    "trade_data_just30.to_csv(\"./BACI-data/top_30_trade_2017.csv\", index = False)"
   ]
  },
  {
   "cell_type": "code",
   "execution_count": null,
   "metadata": {},
   "outputs": [],
   "source": []
  }
 ],
 "metadata": {
  "kernelspec": {
   "display_name": "base",
   "language": "python",
   "name": "python3"
  },
  "language_info": {
   "codemirror_mode": {
    "name": "ipython",
    "version": 3
   },
   "file_extension": ".py",
   "mimetype": "text/x-python",
   "name": "python",
   "nbconvert_exporter": "python",
   "pygments_lexer": "ipython3",
   "version": "3.7.3"
  }
 },
 "nbformat": 4,
 "nbformat_minor": 4
}
